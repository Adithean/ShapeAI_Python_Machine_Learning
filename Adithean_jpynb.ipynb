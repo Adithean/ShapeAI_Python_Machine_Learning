{
  "nbformat": 4,
  "nbformat_minor": 0,
  "metadata": {
    "colab": {
      "name": "Adithean.jpynb",
      "provenance": []
    },
    "kernelspec": {
      "name": "python3",
      "display_name": "Python 3"
    },
    "language_info": {
      "name": "python"
    }
  },
  "cells": [
    {
      "cell_type": "code",
      "metadata": {
        "id": "C2dpYgxf3Lc8"
      },
      "source": [
        "import numpy as np\n",
        "import pandas as pd\n",
        "import sklearn"
      ],
      "execution_count": null,
      "outputs": []
    },
    {
      "cell_type": "code",
      "metadata": {
        "id": "zZh_sYzV38Br"
      },
      "source": [
        "from sklearn.datasets import load_boston\n",
        "df=load_boston()"
      ],
      "execution_count": null,
      "outputs": []
    },
    {
      "cell_type": "code",
      "metadata": {
        "id": "i78Q4owv5Uvk"
      },
      "source": [
        "df.keys()"
      ],
      "execution_count": null,
      "outputs": []
    },
    {
      "cell_type": "code",
      "metadata": {
        "id": "NzdEMJqb5puC"
      },
      "source": [
        "print(df.DESCR)"
      ],
      "execution_count": null,
      "outputs": []
    },
    {
      "cell_type": "code",
      "metadata": {
        "id": "ZzzgE56j52aN"
      },
      "source": [
        "bosten=pd.DataFrame(df.data,columns=df.feature_names)\n",
        "bosten.head()"
      ],
      "execution_count": null,
      "outputs": []
    },
    {
      "cell_type": "code",
      "metadata": {
        "id": "_6HnOR8_6V_R"
      },
      "source": [
        "bosten['MEDV']=df.target\n",
        "bosten.head()"
      ],
      "execution_count": null,
      "outputs": []
    },
    {
      "cell_type": "code",
      "metadata": {
        "id": "IlM9Ebc26sd4"
      },
      "source": [
        "bosten.isnull()"
      ],
      "execution_count": null,
      "outputs": []
    },
    {
      "cell_type": "code",
      "metadata": {
        "id": "zH8EWwZD7A1A"
      },
      "source": [
        "bosten.isnull().sum()"
      ],
      "execution_count": null,
      "outputs": []
    },
    {
      "cell_type": "code",
      "metadata": {
        "id": "TXgeoXco7HiD"
      },
      "source": [
        "from sklearn.model_selection import train_test_split\n",
        "X=bosten('MEDV',axis=1)\n",
        "y=bosten['MEDV']\n",
        "\n",
        "X_train,X_test,Y_train,Y_test=train_test_split(X,Y,test_size=0.15,random_state=5)\n",
        "\n",
        "print(X_train.shape)\n",
        "Print(X_test.shape)\n",
        "print(Y_train.shape)\n",
        "print(Y_test.shape)"
      ],
      "execution_count": null,
      "outputs": []
    },
    {
      "cell_type": "code",
      "metadata": {
        "id": "eTpNYblv8xoU"
      },
      "source": [
        "from sklearn.;linear_model import LinearRegression\n",
        "from sklear.metrics import mean_squared_error"
      ],
      "execution_count": null,
      "outputs": []
    },
    {
      "cell_type": "code",
      "metadata": {
        "id": "M_rQ2isG9IdC"
      },
      "source": [
        "lin_model=LinearRegression()\n",
        "lin_model.fit(X_train, Y_train)"
      ],
      "execution_count": null,
      "outputs": []
    },
    {
      "cell_type": "code",
      "metadata": {
        "id": "R2fWzd7E9Y6U"
      },
      "source": [
        "y_train_predict=lin_model.predict(X_train)\n",
        "rmse=np.sqrt(mean_squared_error(Y_train,y_train_predict))\n",
        "print(\"The model performance for training set\")\n",
        "print('RESEis{}', format(rmse))\n",
        "print(\"\\n\")"
      ],
      "execution_count": null,
      "outputs": []
    },
    {
      "cell_type": "code",
      "metadata": {
        "id": "Yts887KZ-vLR"
      },
      "source": [
        "y_test_predict=lin_model.predict(X_test)\n",
        "rmes=np.sqrt(mean_squard_error(Y_test,y_test_predict))\n",
        "print(\"The model performance for tessting set\")\n",
        "print(\"RESE is{}\", format(rmse))\n"
      ],
      "execution_count": null,
      "outputs": []
    }
  ]
}